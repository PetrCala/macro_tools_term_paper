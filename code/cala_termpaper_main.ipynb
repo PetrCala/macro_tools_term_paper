{
 "cells": [
  {
   "attachments": {},
   "cell_type": "markdown",
   "metadata": {},
   "source": [
    "#### Tools For Modern Macroeconometrics\n",
    "\n",
    "## Term paper - 1st stage\n",
    "\n",
    "##### Summer semester 2022/23\n",
    "\n",
    "*Author:* Petr Čala\n",
    "___\n",
    "### *Environment preparation, package handling, and file validation:*"
   ]
  },
  {
   "cell_type": "code",
   "execution_count": 153,
   "metadata": {
    "vscode": {
     "languageId": "r"
    }
   },
   "outputs": [
    {
     "name": "stdout",
     "output_type": "stream",
     "text": [
      "[1] \"Source file loaded.\"\n",
      "[1] \"All packages loaded successfully\"\n"
     ]
    }
   ],
   "source": [
    "##### ENVIRONMENT PREPARATION #####\n",
    "\n",
    "# Clean the environment\n",
    "rm(list = ls()) \n",
    "\n",
    "#Plot display options\n",
    "options(warn=-1, repr.plot.width = 12, repr.plot.height = 6, xts.warn_dplyr_breaks_lag=FALSE)\n",
    "\n",
    "#Seed\n",
    "set.seed(420)\n",
    "\n",
    "##### STATIC #####\n",
    "\n",
    "# Required packages\n",
    "packages <- c(\n",
    "  \"pdfetch\", # Downloading data\n",
    "  \"forecast\", # autoplot function, ARIMA\n",
    "  \"xts\", # plot.xts function\n",
    "  \"urca\", # Unit root test\n",
    "  \"seasonal\", # Seasonal adjustments\n",
    "  \"stats\", # Autocorr fun, spectrum, periodogram\n",
    "  \"mFilter\", # HP filter\n",
    "  \"neverhpfilter\", # Hamilton's regression filter\n",
    "  \"tsbox\",\n",
    "  \"strucchange\", # Structural breaks in data\n",
    "  \"quantmod\", # Period-over-period changes (\"periodReturn\")\n",
    "  \"TSA\", # periodogram\n",
    "  \"statcheck\", # Structural breaks\n",
    "  \"tseries\" # Tests\n",
    ")\n",
    "# Other useful packages - \"dplyr\", \"quantmod\", \"moments\", \"StableEstim\", \"stabledist\", \"tseries\")\n",
    "\n",
    "##### PREPARATION #####\n",
    "\n",
    "# Load the source script\n",
    "if (!file.exists(\"cala_termpaper_source.R\")){\n",
    "  print('Please make sure to put the source file \\\"cala_termpaper_source\\\" in\n",
    "        your working directory.')\n",
    "  stop(\"Source file failed to load.\")\n",
    "} else{\n",
    "  source(\"cala_termpaper_source.R\")\n",
    "  print(\"Source file loaded.\")\n",
    "}\n",
    "\n",
    "# Load packages\n",
    "loadPackages(packages)\n"
   ]
  },
  {
   "attachments": {},
   "cell_type": "markdown",
   "metadata": {
    "vscode": {
     "languageId": "r"
    }
   },
   "source": [
    "### *Obtaining the data*:\n",
    "\n",
    "We fetch the data using the *fetch* function form the `pdfetch` package. We will use the widest range of time possible, and with this, fetch the data for GDP and Consumer Price Index."
   ]
  },
  {
   "cell_type": "code",
   "execution_count": 154,
   "metadata": {
    "vscode": {
     "languageId": "r"
    }
   },
   "outputs": [
    {
     "data": {
      "image/png": "[encoded data removed]",
      "text/plain": [
       "plot without title"
      ]
     },
     "metadata": {
      "image/png": {
       "height": 360,
       "width": 720
      }
     },
     "output_type": "display_data"
    }
   ],
   "source": [
    "# Set the static variables\n",
    "us_gdp_id <- \"GDPC1\"\n",
    "us_cpi_id <- \"CPALTT01USM657N\"\n",
    "start_date <- 2020\n",
    "end_date <- 2023\n",
    "\n",
    "# Retrieve the U.S. GDP and consumer price index data using \"pdfetch_FRED\"\n",
    "us_gdp_data <- pdfetch_FRED(us_gdp_id)\n",
    "us_cpi_data <- pdfetch_FRED(us_cpi_id)\n",
    "\n",
    "# Plot the original time series using 'plot.xts'\n",
    "par(mfrow=c(1,2))\n",
    "plot.xts(us_gdp_data, main=\"Real GDP, U.S.\", grid.col=NA, yaxis.left=TRUE)\n",
    "plot.xts(us_cpi_data, main=\"CPI, U.S.\", grid.col=NA, yaxis.left=TRUE)\n"
   ]
  },
  {
   "attachments": {},
   "cell_type": "markdown",
   "metadata": {},
   "source": [
    "### *Data transformation*:\n",
    "\n",
    "We transform the data according to the instructions. Most comments are provided inside the code block, but we would just like to mention, that the `seas` function did not work for us, thus we decided to go with the `decompose` function for seasonal trend extraction instead.\n",
    "\n",
    "Also, the CPI data comes in the form of percentual changes as is, so there is no need to transform it, as it had already been done for us by the data provider."
   ]
  },
  {
   "cell_type": "code",
   "execution_count": 155,
   "metadata": {
    "vscode": {
     "languageId": "r"
    }
   },
   "outputs": [],
   "source": [
    "### 1.\n",
    "# Transform GDP into log\n",
    "gdp_log <- log(us_gdp_data)\n",
    "colnames(gdp_log) <- \"GDP\"\n",
    "\n",
    "\n",
    "### 2.\n",
    "# Adjust seasonality using ts_first_of_period, ts_ts, and decompose functions\n",
    "cpi_ts <- ts_first_of_period(us_cpi_data)\n",
    "cpi_ts <- ts_ts(cpi_ts)\n",
    "cpi_seasonal <- decompose(cpi_ts) # $x, $seasonal, $trend, $random\n",
    "\n",
    "# Extract the seasonal componenets\n",
    "cpi_adjusted <- cpi_seasonal$x # Seasonally adjusted price index\n",
    "cpi_seasonal_fluctuations <- cpi_seasonal$seasonal # Seasonal fluctuations"
   ]
  },
  {
   "attachments": {},
   "cell_type": "markdown",
   "metadata": {},
   "source": [
    "After extracting the seasonal components from the CPI, we can take a look at the Y-O-Y, M-O-M, and P-O-P changes. With CPI, there arise several missing and infinite values when computing the percentage change, so we simply remove these, for simplicity. Otherwise, we make good use of the `ROC` function, which allows us to directly compute the percentage changes."
   ]
  },
  {
   "cell_type": "code",
   "execution_count": 156,
   "metadata": {
    "vscode": {
     "languageId": "r"
    }
   },
   "outputs": [],
   "source": [
    "### 3. \n",
    "# Transform the cpi series back into xts for easier handling\n",
    "cpi_dates <- index(us_cpi_data) # Use original dates\n",
    "cpi_monthly <- xts(cpi_adjusted, order.by = cpi_dates)\n",
    "colnames(cpi_monthly) <- \"CPI\"\n",
    "\n",
    "## Period-over-period percentage changes\n",
    "gdp_pop_change <- ROC(gdp_log, type='continuous') * 100\n",
    "cpi_pop_change <- ROC(cpi_monthly, type='continuous') * 100\n",
    "cpi_pop_change <- na.omit(cpi_pop_change[is.finite(cpi_pop_change),]) # Drop NA, Inf\n",
    "\n",
    "## Year-over-year percentage changes\n",
    "# Convert xts object to yearly frequency\n",
    "gdp_yearly <- to.yearly(gdp_log)$gdp_log.Close\n",
    "cpi_yearly <- to.yearly(cpi_monthly)$cpi_monthly.Close\n",
    "colnames(gdp_yearly) <- \"Y-O-Y GPD\"\n",
    "colnames(cpi_yearly) <- \"Y-O-Y CPI\"\n",
    "\n",
    "# Calculate year-on-year percentage changes for GDP and CPI\n",
    "gdp_yoy_change <- ROC(gdp_yearly, type='continuous') * 100\n",
    "cpi_yoy_change <- ROC(cpi_yearly, type='continuous') * 100\n",
    "cpi_yoy_change <- na.omit(cpi_yoy_change[is.finite(cpi_yoy_change),])\n",
    "\n",
    "## Verify the presence of seasonal effect in the m-o-m transformed series\n",
    "gdp_monthly <- to.monthly(gdp_log)$gdp_log.Close\n",
    "colnames(gdp_monthly) <- \"M-O-M GPD\"\n",
    "\n",
    "# Calculate month-on-month percentage changes for GDP and CPI\n",
    "gdp_mom_change <- ROC(gdp_monthly, type='continuous') * 100\n",
    "cpi_mom_change <- ROC(cpi_monthly, type='continuous') * 100\n",
    "gdp_mom_change <- na.omit(gdp_mom_change[is.finite(gdp_mom_change),])\n",
    "cpi_mom_change <- na.omit(cpi_mom_change[is.finite(cpi_mom_change),])\n"
   ]
  },
  {
   "attachments": {},
   "cell_type": "markdown",
   "metadata": {},
   "source": [
    "### *Structural validation*:\n",
    "\n",
    "With these data, we can take a look at any potential remaining seasonal effects in the m-o-m series, check for structural breaks, stationarity, and other characteristics."
   ]
  },
  {
   "cell_type": "code",
   "execution_count": 157,
   "metadata": {
    "vscode": {
     "languageId": "r"
    }
   },
   "outputs": [
    {
     "name": "stdout",
     "output_type": "stream",
     "text": [
      "[1] \"Running structural checks for monthly CPI\"\n",
      "[1] \"Running the augmented Dickey-Fuller test for monthly CPI...\"\n",
      "\n",
      "\tAugmented Dickey-Fuller Test\n",
      "\n",
      "data:  time_series\n",
      "Dickey-Fuller = -20.734, Lag order = 1, p-value = 0.01\n",
      "alternative hypothesis: stationary\n",
      "\n",
      "[1] \"The m-o-m transformed series is stationary and has zero order of integration\"\n",
      "[1] \"Running structural checks for monthly GDP\"\n",
      "[1] \"Running the augmented Dickey-Fuller test for monthly GDP...\"\n",
      "\n",
      "\tAugmented Dickey-Fuller Test\n",
      "\n",
      "data:  time_series\n",
      "Dickey-Fuller = -10.271, Lag order = 1, p-value = 0.01\n",
      "alternative hypothesis: stationary\n",
      "\n",
      "[1] \"The m-o-m transformed series is stationary and has zero order of integration\"\n"
     ]
    },
    {
     "data": {
      "image/png": "[encoded data removed]",
      "text/plain": [
       "Plot with title \"PACF of monthly CPI\""
      ]
     },
     "metadata": {
      "image/png": {
       "height": 360,
       "width": 720
      }
     },
     "output_type": "display_data"
    },
    {
     "data": {
      "image/png": "[encoded data removed]",
      "text/plain": [
       "Plot with title \"PACF of monthly GDP\""
      ]
     },
     "metadata": {
      "image/png": {
       "height": 360,
       "width": 720
      }
     },
     "output_type": "display_data"
    }
   ],
   "source": [
    "# Run various structural checks using a compact function (for details see the source R script)\n",
    "par(mfrow=c(2,2))\n",
    "runStructuralChecks(cpi_mom_change, \"monthly CPI\")\n",
    "runStructuralChecks(gdp_mom_change, \"monthly GDP\")"
   ]
  },
  {
   "attachments": {},
   "cell_type": "markdown",
   "metadata": {},
   "source": [
    "\n",
    "On previous results\n",
    "\n",
    "\n",
    "### *Linear Model Estimation*:\n",
    "\n",
    "Now we will try to estimate several linear models, to see which fit the two series the best.\n",
    "\n"
   ]
  },
  {
   "cell_type": "code",
   "execution_count": null,
   "metadata": {
    "vscode": {
     "languageId": "r"
    }
   },
   "outputs": [],
   "source": [
    "### 4.\n",
    "\n",
    "#\n",
    "# code here"
   ]
  },
  {
   "attachments": {},
   "cell_type": "markdown",
   "metadata": {},
   "source": [
    "Results of the modelling section here\n",
    "\n",
    "### *Estimating the Output Gap*:\n",
    "\n",
    "Intro here"
   ]
  },
  {
   "cell_type": "code",
   "execution_count": null,
   "metadata": {
    "vscode": {
     "languageId": "r"
    }
   },
   "outputs": [],
   "source": [
    "### 5.\n",
    "\n",
    "#Code here"
   ]
  },
  {
   "cell_type": "markdown",
   "metadata": {},
   "source": [
    "Results of the output gap estimation here"
   ]
  },
  {
   "cell_type": "markdown",
   "metadata": {},
   "source": [
    "##"
   ]
  }
 ],
 "metadata": {
  "kernelspec": {
   "display_name": "R",
   "language": "R",
   "name": "ir"
  },
  "language_info": {
   "codemirror_mode": "r",
   "file_extension": ".r",
   "mimetype": "text/x-r-source",
   "name": "R",
   "pygments_lexer": "r",
   "version": "4.2.2"
  },
  "orig_nbformat": 4,
  "vscode": {
   "interpreter": {
    "hash": "ef302c5ef8ca581e58ca04844524c5fb484f395fd3b9a761dc74c7358f0b452c"
   }
  }
 },
 "nbformat": 4,
 "nbformat_minor": 2
}
