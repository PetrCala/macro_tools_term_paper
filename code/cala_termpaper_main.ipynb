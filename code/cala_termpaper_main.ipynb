{
 "cells": [
  {
   "attachments": {},
   "cell_type": "markdown",
   "metadata": {},
   "source": [
    "#### Tools For Modern Macroeconometrics\n",
    "\n",
    "## Term paper - 1st stage\n",
    "\n",
    "##### Summer semester 2022/23\n",
    "\n",
    "*Author:* Petr Čala\n",
    "___\n",
    "### *Environment preparation, package handling, and file validation:*"
   ]
  },
  {
   "cell_type": "code",
   "execution_count": 159,
   "metadata": {
    "vscode": {
     "languageId": "r"
    }
   },
   "outputs": [
    {
     "name": "stdout",
     "output_type": "stream",
     "text": [
      "[1] \"Source file loaded.\"\n",
      "[1] \"Installing package strucchange...\"\n"
     ]
    },
    {
     "name": "stderr",
     "output_type": "stream",
     "text": [
      "Installing package into 'C:/Users/hso20/AppData/Local/R/win-library/4.2'\n",
      "(as 'lib' is unspecified)\n",
      "\n"
     ]
    },
    {
     "name": "stdout",
     "output_type": "stream",
     "text": [
      "package 'strucchange' successfully unpacked and MD5 sums checked\n",
      "\n",
      "The downloaded binary packages are in\n",
      "\tC:\\Users\\hso20\\AppData\\Local\\Temp\\Rtmp8GTVFU\\downloaded_packages\n"
     ]
    },
    {
     "name": "stderr",
     "output_type": "stream",
     "text": [
      "Loading required package: sandwich\n",
      "\n",
      "Loading required package: TTR\n",
      "\n"
     ]
    },
    {
     "name": "stdout",
     "output_type": "stream",
     "text": [
      "[1] \"All packages loaded successfully\"\n"
     ]
    }
   ],
   "source": [
    "##### ENVIRONMENT PREPARATION #####\n",
    "\n",
    "# Clean the environment\n",
    "rm(list = ls()) \n",
    "\n",
    "#Plot display options\n",
    "options(warn=-1, repr.plot.width = 12, repr.plot.height = 6, xts.warn_dplyr_breaks_lag=FALSE)\n",
    "\n",
    "#Seed\n",
    "set.seed(420)\n",
    "\n",
    "##### STATIC #####\n",
    "\n",
    "# Required packages\n",
    "packages <- c(\n",
    "  \"pdfetch\", # Downloading data\n",
    "  \"forecast\", # autoplot function, ARIMA\n",
    "  \"xts\", # plot.xts function\n",
    "  \"urca\", # Unit root test\n",
    "  \"seasonal\", # Seasonal adjustments\n",
    "  \"stats\", # Autocorr fun, spectrum, periodogram\n",
    "  \"mFilter\", # HP filter\n",
    "  \"neverhpfilter\", # Hamilton's regression filter\n",
    "  \"tsbox\",\n",
    "  \"strucchange\", # Structural breaks in data\n",
    "  \"quantmod\" # Period-over-period changes (\"periodReturn\")\n",
    ")\n",
    "# Other useful packages - \"dplyr\", \"quantmod\", \"moments\", \"StableEstim\", \"stabledist\", \"tseries\")\n",
    "\n",
    "##### PREPARATION #####\n",
    "\n",
    "# Load the source script\n",
    "if (!file.exists(\"cala_termpaper_source.R\")){\n",
    "  print('Please make sure to put the source file \\\"cala_termpaper_source\\\" in\n",
    "        your working directory.')\n",
    "  stop(\"Source file failed to load.\")\n",
    "} else{\n",
    "  source(\"cala_termpaper_source.R\")\n",
    "  print(\"Source file loaded.\")\n",
    "}\n",
    "\n",
    "# Load packages\n",
    "loadPackages(packages)\n"
   ]
  },
  {
   "attachments": {},
   "cell_type": "markdown",
   "metadata": {
    "vscode": {
     "languageId": "r"
    }
   },
   "source": [
    "### *Obtaining the data*:\n",
    "\n",
    "We fetch the data using the *fetch* function form the `pdfetch` package. We will use the widest range of time possible, and with this, fetch the data for GDP and Consumer Price Index."
   ]
  },
  {
   "cell_type": "code",
   "execution_count": 162,
   "metadata": {
    "vscode": {
     "languageId": "r"
    }
   },
   "outputs": [
    {
     "data": {
      "image/png": "[encoded data removed]",
      "text/plain": [
       "plot without title"
      ]
     },
     "metadata": {
      "image/png": {
       "height": 360,
       "width": 720
      }
     },
     "output_type": "display_data"
    }
   ],
   "source": [
    "# Set the static variables\n",
    "us_gdp_id <- \"GDPC1\"\n",
    "us_cpi_id <- \"CPALTT01USM657N\"\n",
    "start_date <- 2020\n",
    "end_date <- 2023\n",
    "\n",
    "# Retrieve the U.S. GDP and consumer price index data using \"pdfetch_FRED\"\n",
    "us_gdp_data <- pdfetch_FRED(us_gdp_id)\n",
    "us_cpi_data <- pdfetch_FRED(us_cpi_id)\n",
    "\n",
    "# Plot the original time series using 'plot.xts'\n",
    "par(mfrow=c(1,2))\n",
    "plot.xts(us_gdp_data, main=\"Real GDP, U.S.\", grid.col=NA, yaxis.left=TRUE)\n",
    "plot.xts(us_cpi_data, main=\"CPI, U.S.\", grid.col=NA, yaxis.left=TRUE)\n"
   ]
  },
  {
   "attachments": {},
   "cell_type": "markdown",
   "metadata": {},
   "source": [
    "### *Data transformation*:\n",
    "\n",
    "We transform the data according to the instructions. Most comments are provided inside the code block, but we would just like to mention, that the `seas` function did not work for us, thus we decided to go with the `decompose` function for seasonal trend extraction instead.\n",
    "\n",
    "Also, the CPI data comes in the form of percentual changes as is, so there is no need to transform it, as it had already been done for us by the data provider."
   ]
  },
  {
   "cell_type": "code",
   "execution_count": 168,
   "metadata": {
    "vscode": {
     "languageId": "r"
    }
   },
   "outputs": [],
   "source": [
    "### 1.\n",
    "# Transform GDP into log\n",
    "gdp_log <- log(us_gdp_data)\n",
    "colnames(gdp_log) <- \"GDP\"\n",
    "\n",
    "\n",
    "### 2.\n",
    "# Adjust seasonality using ts_first_of_period, ts_ts, and decompose functions\n",
    "cpi_ts <- ts_first_of_period(us_cpi_data)\n",
    "cpi_ts <- ts_ts(cpi_ts)\n",
    "cpi_seasonal <- decompose(cpi_ts) # $x, $seasonal, $trend, $random\n",
    "\n",
    "# Extract the seasonal componenets\n",
    "cpi_adjusted <- cpi_seasonal$x # Seasonally adjusted price index\n",
    "cpi_seasonal_fluctuations <- cpi_seasonal$seasonal # Seasonal fluctuations"
   ]
  },
  {
   "cell_type": "code",
   "execution_count": 188,
   "metadata": {
    "vscode": {
     "languageId": "r"
    }
   },
   "outputs": [
    {
     "ename": "ERROR",
     "evalue": "Error in periodogram(cpi_pop_change, main = \"Periodogram of monthly CPI series\"): could not find function \"periodogram\"\n",
     "output_type": "error",
     "traceback": [
      "Error in periodogram(cpi_pop_change, main = \"Periodogram of monthly CPI series\"): could not find function \"periodogram\"\nTraceback:\n"
     ]
    }
   ],
   "source": [
    "### 3. \n",
    "# Transform the cpi series back into xts for easier handling\n",
    "cpi_dates <- index(us_cpi_data) # Use original dates\n",
    "cpi_xts <- xts(cpi_adjusted, order.by = cpi_dates)\n",
    "colnames(cpi_xts) <- \"CPI\"\n",
    "\n",
    "## Period-over-period percentage changes\n",
    "gdp_pop_change <- ROC(gdp_log, type='continuous') * 100\n",
    "cpi_pop_change <- ROC(cpi_xts, type='continuous') * 100\n",
    "\n",
    "## Year-over-year percentage changes\n",
    "# Convert xts object to yearly frequency\n",
    "gdp_yearly <- to.yearly(gdp_log)\n",
    "cpi_yearly <- to.yearly(cpi_xts)\n",
    "\n",
    "# Calculate year-on-year percentage changes for GDP and CPI\n",
    "gdp_yoy_change <- ROC(gdp_yearly, type='continuous') * 100\n",
    "cpi_yoy_change <- ROC(cpi_yearly, type='continuous') * 100\n",
    "\n",
    "## Verify the presence of seasonal effect in the m-o-m transformed series\n",
    "\n",
    "# Plot the periodogram of the m-o-m transformed series (CPI is monthly by default)\n",
    "# START FIXING HERE\n",
    "periodogram(cpi_pop_change, main='Periodogram of monthly CPI series')\n",
    "\n",
    "# Plot the spectrum of the m-o-m transformed series\n",
    "spectrum(cpi_pop_change, main='Spectrum of monthly CPI series')\n",
    "\n",
    "##### STRUCCHANGE\n",
    "library(strucchange)\n",
    "\n",
    "# Detect structural breaks using the breakpoints function\n",
    "bp <- breakpoints(xts_obj ~ 1)\n",
    "\n",
    "# Test the stationarity of the segments between breakpoints\n",
    "statcheck(bp)\n",
    "\n",
    "\n",
    "### ADF\n",
    "# Perform ADF test on the m-o-m transformed series\n",
    "adf_test <- adf.test(pct_change)\n",
    "if(adf_test$p.value < 0.05) {\n",
    "  print('The m-o-m transformed series is stationary and has zero order of integration')\n",
    "} else {\n",
    "  # Perform ADF test on the first difference of the series\n",
    "  adf_test_diff <- adf.test(diff(pct_change))\n",
    "  if(adf_test_diff$p.value < 0.05) {\n",
    "    print('The m-o-m transformed series is integrated of order 1')\n",
    "  } else {\n",
    "    print('The m-o-m transformed series is not stationary')\n",
    "  }\n",
    "}\n",
    "\n",
    "# Perform ADF test on the y-o-y transformed series\n",
    "adf_test_yoy <- adf.test(yoy_pct_change)\n",
    "if(adf_test_yoy$p.value < 0.05) {\n",
    "  print('The y-o-y transformed series is stationary and has zero order of integration')\n",
    "} else {\n",
    "  # Perform ADF test on the first difference of the series\n",
    "  adf_test_yoy_diff <- adf.test(diff(yoy_pct_change))\n",
    "  if(adf_test_yoy_diff$p.value < 0.05) {\n",
    "    print('The y-o-y transformed series is integrated of order 1')\n",
    "  }"
   ]
  },
  {
   "cell_type": "code",
   "execution_count": 187,
   "metadata": {
    "vscode": {
     "languageId": "r"
    }
   },
   "outputs": [
    {
     "ename": "ERROR",
     "evalue": "Error in plot.window(c(1, 10), c(NaN, NaN)): need finite 'ylim' values\n",
     "output_type": "error",
     "traceback": [
      "Error in plot.window(c(1, 10), c(NaN, NaN)): need finite 'ylim' values\nTraceback:\n",
      "1. plot(cpi_pop_change)",
      "2. plot(cpi_pop_change)",
      "3. plot.xts(cpi_pop_change)",
      "4. cs$set_frame(1, FALSE)",
      "5. set_window(clip)",
      "6. do.call(\"plot.window\", win)",
      "7. plot.window(c(1, 10), c(NaN, NaN))"
     ]
    }
   ],
   "source": [
    "plot(cpi_pop_change)"
   ]
  }
 ],
 "metadata": {
  "kernelspec": {
   "display_name": "R",
   "language": "R",
   "name": "ir"
  },
  "language_info": {
   "codemirror_mode": "r",
   "file_extension": ".r",
   "mimetype": "text/x-r-source",
   "name": "R",
   "pygments_lexer": "r",
   "version": "4.2.2"
  },
  "orig_nbformat": 4,
  "vscode": {
   "interpreter": {
    "hash": "ef302c5ef8ca581e58ca04844524c5fb484f395fd3b9a761dc74c7358f0b452c"
   }
  }
 },
 "nbformat": 4,
 "nbformat_minor": 2
}
