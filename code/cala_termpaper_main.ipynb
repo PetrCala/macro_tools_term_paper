{
 "cells": [
  {
   "attachments": {},
   "cell_type": "markdown",
   "metadata": {},
   "source": [
    "#### Tools For Modern Macroeconometrics\n",
    "\n",
    "## Term paper - 1st stage\n",
    "\n",
    "##### Summer semester 2022/23\n",
    "\n",
    "*Author:* Petr Čala\n",
    "___\n",
    "### *Environment preparation, package handling, and file validation:*"
   ]
  },
  {
   "cell_type": "code",
   "execution_count": 148,
   "metadata": {
    "vscode": {
     "languageId": "r"
    }
   },
   "outputs": [
    {
     "name": "stdout",
     "output_type": "stream",
     "text": [
      "[1] \"Source file loaded.\"\n",
      "[1] \"All packages loaded successfully\"\n"
     ]
    }
   ],
   "source": [
    "##### ENVIRONMENT PREPARATION #####\n",
    "\n",
    "# Clean the environment\n",
    "rm(list = ls()) \n",
    "\n",
    "#Plot display options\n",
    "options(warn=-1, repr.plot.width = 12, repr.plot.height = 6, xts.warn_dplyr_breaks_lag=FALSE, scipen=999)\n",
    "\n",
    "set.seed(420)\n",
    "\n",
    "##### STATIC #####\n",
    "\n",
    "# Required packages\n",
    "packages <- c(\n",
    "  \"pdfetch\", # Downloading data\n",
    "  \"forecast\", # autoplot function, ARIMA\n",
    "  \"xts\", # plot.xts function\n",
    "  \"urca\", # Unit root test\n",
    "  \"seasonal\", # Seasonal adjustments\n",
    "  \"stats\", # Autocorr fun, spectrum, periodogram\n",
    "  \"mFilter\", # HP filter\n",
    "  \"neverhpfilter\", # Hamilton's regression filter\n",
    "  \"tsbox\",\n",
    "  \"strucchange\", # Structural breaks in data\n",
    "  \"quantmod\", # Period-over-period changes (\"periodReturn\")\n",
    "  \"TSA\", # periodogram\n",
    "  \"statcheck\", # Structural breaks\n",
    "  \"tseries\" # Tests\n",
    ")\n",
    "# Other useful packages - \"dplyr\", \"quantmod\", \"moments\", \"StableEstim\", \"stabledist\", \"tseries\")\n",
    "\n",
    "##### PREPARATION #####\n",
    "\n",
    "# Load the source script\n",
    "if (!file.exists(\"cala_termpaper_source.R\")){\n",
    "  print('Please make sure to put the source file \\\"cala_termpaper_source\\\" in\n",
    "        your working directory.')\n",
    "  stop(\"Source file failed to load.\")\n",
    "} else{\n",
    "  source(\"cala_termpaper_source.R\")\n",
    "  print(\"Source file loaded.\")\n",
    "}\n",
    "\n",
    "# Load packages\n",
    "loadPackages(packages)\n"
   ]
  },
  {
   "attachments": {},
   "cell_type": "markdown",
   "metadata": {
    "vscode": {
     "languageId": "r"
    }
   },
   "source": [
    "### *Obtaining the data*:\n",
    "\n",
    "We fetch the data using the *fetch* function form the `pdfetch` package. We will use the widest range of time possible, and with this, fetch the data for GDP and Consumer Price Index."
   ]
  },
  {
   "cell_type": "code",
   "execution_count": 149,
   "metadata": {
    "vscode": {
     "languageId": "r"
    }
   },
   "outputs": [
    {
     "data": {
      "image/png": "[encoded data removed]",
      "text/plain": [
       "plot without title"
      ]
     },
     "metadata": {
      "image/png": {
       "height": 360,
       "width": 720
      }
     },
     "output_type": "display_data"
    }
   ],
   "source": [
    "# Set the static variables\n",
    "us_gdp_id <- \"GDPC1\" # https://fred.stlouisfed.org/series/GDPC1\n",
    "us_cpi_id <- \"CPIAUCSL\" # https://fred.stlouisfed.org/series/CPIAUCSL\n",
    "\n",
    "# Retrieve the U.S. GDP and consumer price index data using \"pdfetch_FRED\"\n",
    "us_gdp_data <- pdfetch_FRED(us_gdp_id)\n",
    "us_cpi_data <- pdfetch_FRED(us_cpi_id)\n",
    "\n",
    "# Plot the original time series using 'plot.xts'\n",
    "par(mfrow=c(1,2))\n",
    "plot.xts(us_gdp_data, main=\"GDP U.S., Seasonally Adjusted\", grid.col=NA, yaxis.left=TRUE)\n",
    "plot.xts(us_cpi_data, main=\"CPI, U.S., Seasonally Adjusted\", grid.col=NA, yaxis.left=TRUE)\n"
   ]
  },
  {
   "attachments": {},
   "cell_type": "markdown",
   "metadata": {},
   "source": [
    "### *Data transformation*:\n",
    "\n",
    "Both series were available in the seasonally adjusted form, so we could skip step two. In case they were not, however, we appended a `handleSeasonality` function, which would extract the respective components out of the series. This function can be found in our source code, but we will not be using it.\n",
    "\n",
    "For now, we will just transform the series to logs, as instructed."
   ]
  },
  {
   "cell_type": "code",
   "execution_count": 151,
   "metadata": {
    "vscode": {
     "languageId": "r"
    }
   },
   "outputs": [
    {
     "name": "stdout",
     "output_type": "stream",
     "text": [
      "[1] \"Transforming the series to log...\"\n"
     ]
    },
    {
     "data": {
      "image/png": "[encoded data removed]",
      "text/plain": [
       "plot without title"
      ]
     },
     "metadata": {
      "image/png": {
       "height": 360,
       "width": 720
      }
     },
     "output_type": "display_data"
    }
   ],
   "source": [
    "### 1.\n",
    "print('Transforming the series to log...')\n",
    "gdp_log <- log(us_gdp_data)\n",
    "cpi_log <- log(us_cpi_data)\n",
    "\n",
    "# Plot the new time series using 'plot.xts'\n",
    "par(mfrow=c(1,2))\n",
    "plot.xts(gdp_log, main=\"Log of GDP U.S., Seasonally Adjusted\", grid.col=NA, yaxis.left=TRUE)\n",
    "plot.xts(cpi_log, main=\"Log of CPI, U.S., Seasonally Adjusted\", grid.col=NA, yaxis.left=TRUE)\n",
    "### 2.\n",
    "# gdp_quarterly <- handleSeasonality(gdp_log, \"GDP\")\n",
    "# cpi_log <- handleSeasonality(cpi_log, \"CPI\")"
   ]
  },
  {
   "attachments": {},
   "cell_type": "markdown",
   "metadata": {},
   "source": [
    "We can **check the data for stationarity, and order of integration**, using a custom function - `runStructuralChecks`."
   ]
  },
  {
   "cell_type": "code",
   "execution_count": 152,
   "metadata": {
    "vscode": {
     "languageId": "r"
    }
   },
   "outputs": [
    {
     "name": "stdout",
     "output_type": "stream",
     "text": [
      "[1] \"Running structural checks for quarterly GDP\"\n",
      "[1] \"Running the augmented Dickey-Fuller test for quarterly GDP...\"\n",
      "\n",
      "\tAugmented Dickey-Fuller Test\n",
      "\n",
      "data:  time_series\n",
      "Dickey-Fuller = -1.197, Lag order = 1, p-value = 0.9057\n",
      "alternative hypothesis: stationary\n",
      "\n",
      "[1] \"The transformed series is integrated of order 1\"\n",
      "[1] \"Running structural checks for monthly CPI\"\n",
      "[1] \"Running the augmented Dickey-Fuller test for monthly CPI...\"\n",
      "\n",
      "\tAugmented Dickey-Fuller Test\n",
      "\n",
      "data:  time_series\n",
      "Dickey-Fuller = -0.22199, Lag order = 1, p-value = 0.99\n",
      "alternative hypothesis: stationary\n",
      "\n",
      "[1] \"The transformed series is integrated of order 1\"\n"
     ]
    }
   ],
   "source": [
    "# Run various structural checks using a compact function (for details see the source R script)\n",
    "par(mfrow=c(2,2))\n",
    "runStructuralChecks(gdp_log, \"quarterly GDP\", print_plots=F)\n",
    "runStructuralChecks(cpi_log, \"monthly CPI\", print_plots=F)"
   ]
  },
  {
   "attachments": {},
   "cell_type": "markdown",
   "metadata": {},
   "source": [
    "These checks suggest both series are integrated of order one, so **taking the percentage changes could make them stationary**.\n",
    "\n",
    "After extracting the seasonal components from the CPI, we can take a look at the Y-O-Y, M-O-M, and P-O-P changes. For GDP, we can not do the M-O-M, because we do not have the data. With CPI, there arise several missing and infinite values when computing the percentage change, so we simply remove these, for simplicity. Otherwise, we make good use of a custom function, which allows us to directly compute the percentage changes, while defining the number of periods to look back during the computation."
   ]
  },
  {
   "cell_type": "code",
   "execution_count": 153,
   "metadata": {
    "vscode": {
     "languageId": "r"
    }
   },
   "outputs": [
    {
     "name": "stdout",
     "output_type": "stream",
     "text": [
      "[1] \"Transforming data...\"\n",
      "[1] \"Data transformation to percentage changes complete.\"\n"
     ]
    }
   ],
   "source": [
    "### 3. \n",
    "print('Transforming data...')\n",
    "\n",
    "## Period-over-period percentage changes\n",
    "gdp_pop_change <- getPercentageChanges(gdp_log, \"P-O-P GDP returns\", look_back = 1) # Quarterly returns\n",
    "cpi_pop_change <- getPercentageChanges(cpi_log, \"P-O-P CPI returns\", look_back = 1) # Monthly returns\n",
    "\n",
    "# ## Calculate month-to-month changes\n",
    "# Redundant - impossible for GDP due to lack of data, and already in that form for cpi\n",
    "\n",
    "# ## Year-over-year percentage changes\n",
    "gdp_yoy_change <- getPercentageChanges(gdp_log, \"Y-O-Y GDP returns\", look_back = 4)\n",
    "cpi_yoy_change <- getPercentageChanges(cpi_log, \"Y-O-Y CPI returns\", look_back = 12)\n",
    "\n",
    "print('Data transformation to percentage changes complete.')"
   ]
  },
  {
   "attachments": {},
   "cell_type": "markdown",
   "metadata": {},
   "source": [
    "### *Structural validation*:\n",
    "\n",
    "With these data, we can take a look at any potential remaining seasonal effects in the m-o-m series of CPI, and p-o-p series of GDP (because there are no monthly GDP data available). Then we check for structural breaks, stationarity, and other characteristics."
   ]
  },
  {
   "cell_type": "code",
   "execution_count": 154,
   "metadata": {
    "vscode": {
     "languageId": "r"
    }
   },
   "outputs": [
    {
     "name": "stdout",
     "output_type": "stream",
     "text": [
      "[1] \"Running structural checks for quarterly GDP\"\n",
      "[1] \"Running the augmented Dickey-Fuller test for quarterly GDP...\"\n",
      "\n",
      "\tAugmented Dickey-Fuller Test\n",
      "\n",
      "data:  time_series\n",
      "Dickey-Fuller = -10.268, Lag order = 1, p-value = 0.01\n",
      "alternative hypothesis: stationary\n",
      "\n",
      "[1] \"The transformed series is stationary and has zero order of integration\"\n",
      "[1] \"Running structural checks for monthly CPI\"\n",
      "[1] \"Running the augmented Dickey-Fuller test for monthly CPI...\"\n",
      "\n",
      "\tAugmented Dickey-Fuller Test\n",
      "\n",
      "data:  time_series\n",
      "Dickey-Fuller = -12.761, Lag order = 1, p-value = 0.01\n",
      "alternative hypothesis: stationary\n",
      "\n",
      "[1] \"The transformed series is stationary and has zero order of integration\"\n"
     ]
    },
    {
     "data": {
      "image/png": "[encoded data removed]",
      "text/plain": [
       "Plot with title \"PACF of quarterly GDP\""
      ]
     },
     "metadata": {
      "image/png": {
       "height": 360,
       "width": 720
      }
     },
     "output_type": "display_data"
    },
    {
     "data": {
      "image/png": "[encoded data removed]",
      "text/plain": [
       "Plot with title \"PACF of monthly CPI\""
      ]
     },
     "metadata": {
      "image/png": {
       "height": 360,
       "width": 720
      }
     },
     "output_type": "display_data"
    }
   ],
   "source": [
    "# Run various structural checks using a compact function (for details see the source R script)\n",
    "par(mfrow=c(2,2))\n",
    "runStructuralChecks(gdp_pop_change, \"quarterly GDP\")\n",
    "runStructuralChecks(cpi_pop_change, \"monthly CPI\")"
   ]
  },
  {
   "attachments": {},
   "cell_type": "markdown",
   "metadata": {},
   "source": [
    "Both Dickey-Fuller tests suggest stationarity, however, by a quick glance, it is not clear whether all sesasonality has been removed from the CPI series. More than anything, there seems to be a strong persistence in the ACF of the CPI series, which is supported by the periodogram. It might suggest strong presence of low frequencies, or in other words, high persistence in the series, but there is a point to be made that this could indicate unit root. However, the Dickey-Fuller tests suggest strongly against this hypothesis, so we decide to trust them here. As for the spectrum, the take away is similar, with a hint of an increase in the density among lower frequencies. We will see what implications this may pose during the modelling section.\n",
    "\n",
    "The GDP structural tests then look very stable, again, hinting slightly at a larger number of lower frequencies, as well as a lower order ARIMA model, possibly with a magnitude around 2. Let us check these suggestions empirically, now.\n",
    "\n",
    "### *Linear Model Estimation*:\n",
    "\n",
    "In this section, we will try to estimate several linear models, to see which fit the two series the best. Both of the series should be stationary, so linear models should work just fine in our case. We will model on the monthly data, which allow for the largest granularity. We will run the specification check models on data of other granularity at the end.\n",
    "\n",
    "The ACF and PACF plots for either series suggest a simple model should suffice, say *ARMA(2,0)* in the case of GDP, and *ARMA(1,0)* in the case of CPI. We will first see what model the `auto.arima` function suggests, to get an idea, and then go on to\n",
    "\n"
   ]
  },
  {
   "cell_type": "code",
   "execution_count": 155,
   "metadata": {
    "vscode": {
     "languageId": "r"
    }
   },
   "outputs": [
    {
     "data": {
      "text/plain": [
       "Series: gdp_pop_change \n",
       "ARIMA(3,1,2) \n",
       "\n",
       "Coefficients:\n",
       "         ar1     ar2      ar3      ma1     ma2\n",
       "      0.8868  0.0188  -0.1659  -1.7336  0.7394\n",
       "s.e.  0.2232  0.0836   0.0573   0.2224  0.2194\n",
       "\n",
       "sigma^2 = 0.01628:  log likelihood = 194.2\n",
       "AIC=-376.41   AICc=-376.12   BIC=-354.14"
      ]
     },
     "metadata": {},
     "output_type": "display_data"
    },
    {
     "data": {
      "text/plain": [
       "Series: cpi_pop_change \n",
       "ARIMA(5,1,2) \n",
       "\n",
       "Coefficients:\n",
       "         ar1      ar2      ar3      ar4      ar5      ma1     ma2\n",
       "      0.9406  -0.4324  -0.0619  -0.1366  -0.1293  -1.5335  0.8283\n",
       "s.e.  0.0837   0.0559   0.0496   0.0470   0.0381   0.0758  0.0794\n",
       "\n",
       "sigma^2 = 0.004837:  log likelihood = 1138.75\n",
       "AIC=-2261.5   AICc=-2261.34   BIC=-2222.98"
      ]
     },
     "metadata": {},
     "output_type": "display_data"
    }
   ],
   "source": [
    "auto.arima(gdp_pop_change)\n",
    "auto.arima(cpi_pop_change)"
   ]
  },
  {
   "attachments": {},
   "cell_type": "markdown",
   "metadata": {},
   "source": [
    "`auto.arima` suggest *ARIMA(3,1,2)* for the GPD, and *ARIMA(5,1,2)* for CPI. We suppose that the integration of order 1 suggested for both series may arise from the variability in frequencies of the data, but otherwise the data appears stationary, so we do not think it necessary to include the integration order.\n",
    "\n",
    "To get an idea of which orders might be good to model, we resort to an iterative function `getBoxLjung`, which will create 36 basic ARIMA models, and return the values of their Ljung-Box test, ran on their residuals, understandably. We will then search for a **tradeoff between the number of orders and the large p-value from the test**, as the simpler models are usually the best."
   ]
  },
  {
   "cell_type": "code",
   "execution_count": 156,
   "metadata": {
    "vscode": {
     "languageId": "r"
    }
   },
   "outputs": [
    {
     "name": "stdout",
     "output_type": "stream",
     "text": [
      "[1] \"Monthly GDP Ljung-Box test p-values for different orders of ARIMA\"\n"
     ]
    },
    {
     "data": {
      "text/html": [
       "<table class=\"dataframe\">\n",
       "<caption>A data.frame: 25 × 5</caption>\n",
       "<thead>\n",
       "\t<tr><th scope=col>AR order</th><th scope=col>MA order</th><th scope=col>1 lag</th><th scope=col>2 lags</th><th scope=col>3 lags</th></tr>\n",
       "\t<tr><th scope=col>&lt;dbl&gt;</th><th scope=col>&lt;dbl&gt;</th><th scope=col>&lt;dbl&gt;</th><th scope=col>&lt;dbl&gt;</th><th scope=col>&lt;dbl&gt;</th></tr>\n",
       "</thead>\n",
       "<tbody>\n",
       "\t<tr><td>1</td><td>1</td><td>0.7299102</td><td>0.3309420</td><td>0.4695971</td></tr>\n",
       "\t<tr><td>1</td><td>2</td><td>0.9859957</td><td>0.9894737</td><td>0.9991655</td></tr>\n",
       "\t<tr><td>1</td><td>3</td><td>0.9790561</td><td>0.9912723</td><td>0.9921942</td></tr>\n",
       "\t<tr><td>1</td><td>4</td><td>0.9867226</td><td>0.9997043</td><td>0.9999856</td></tr>\n",
       "\t<tr><td>1</td><td>5</td><td>0.9959584</td><td>0.9999865</td><td>0.9999996</td></tr>\n",
       "\t<tr><td>2</td><td>1</td><td>0.9804367</td><td>0.9750226</td><td>0.9969414</td></tr>\n",
       "\t<tr><td>2</td><td>2</td><td>0.3919062</td><td>0.2389430</td><td>0.4110859</td></tr>\n",
       "\t<tr><td>2</td><td>3</td><td>0.9442315</td><td>0.2323952</td><td>0.3995785</td></tr>\n",
       "\t<tr><td>2</td><td>4</td><td>0.9725833</td><td>0.9837803</td><td>0.9940136</td></tr>\n",
       "\t<tr><td>2</td><td>5</td><td>0.9993853</td><td>0.9999290</td><td>0.9999987</td></tr>\n",
       "\t<tr><td>3</td><td>1</td><td>0.9078666</td><td>0.9929452</td><td>0.9282773</td></tr>\n",
       "\t<tr><td>3</td><td>2</td><td>0.8823870</td><td>0.2341374</td><td>0.4016880</td></tr>\n",
       "\t<tr><td>3</td><td>3</td><td>0.3274570</td><td>0.2459755</td><td>0.4155652</td></tr>\n",
       "\t<tr><td>3</td><td>4</td><td>0.9824764</td><td>0.9994689</td><td>0.9999870</td></tr>\n",
       "\t<tr><td>3</td><td>5</td><td>0.9781284</td><td>0.9992820</td><td>0.9643761</td></tr>\n",
       "\t<tr><td>4</td><td>1</td><td>0.9792802</td><td>0.9996344</td><td>0.9997688</td></tr>\n",
       "\t<tr><td>4</td><td>2</td><td>0.9462613</td><td>0.9943995</td><td>0.9935796</td></tr>\n",
       "\t<tr><td>4</td><td>3</td><td>0.8673563</td><td>0.3880054</td><td>0.5418012</td></tr>\n",
       "\t<tr><td>4</td><td>4</td><td>0.4055530</td><td>0.2972675</td><td>0.4502401</td></tr>\n",
       "\t<tr><td>4</td><td>5</td><td>0.9289539</td><td>0.3776777</td><td>0.5328577</td></tr>\n",
       "\t<tr><td>5</td><td>1</td><td>0.9914651</td><td>0.9998912</td><td>0.9999532</td></tr>\n",
       "\t<tr><td>5</td><td>2</td><td>0.9779063</td><td>0.9975154</td><td>0.9998340</td></tr>\n",
       "\t<tr><td>5</td><td>3</td><td>0.9532595</td><td>0.9947128</td><td>0.9962253</td></tr>\n",
       "\t<tr><td>5</td><td>4</td><td>0.9778315</td><td>0.9993737</td><td>0.9999575</td></tr>\n",
       "\t<tr><td>5</td><td>5</td><td>0.9268392</td><td>0.9925690</td><td>0.9991808</td></tr>\n",
       "</tbody>\n",
       "</table>\n"
      ],
      "text/latex": [
       "A data.frame: 25 × 5\n",
       "\\begin{tabular}{lllll}\n",
       " AR order & MA order & 1 lag & 2 lags & 3 lags\\\\\n",
       " <dbl> & <dbl> & <dbl> & <dbl> & <dbl>\\\\\n",
       "\\hline\n",
       "\t 1 & 1 & 0.7299102 & 0.3309420 & 0.4695971\\\\\n",
       "\t 1 & 2 & 0.9859957 & 0.9894737 & 0.9991655\\\\\n",
       "\t 1 & 3 & 0.9790561 & 0.9912723 & 0.9921942\\\\\n",
       "\t 1 & 4 & 0.9867226 & 0.9997043 & 0.9999856\\\\\n",
       "\t 1 & 5 & 0.9959584 & 0.9999865 & 0.9999996\\\\\n",
       "\t 2 & 1 & 0.9804367 & 0.9750226 & 0.9969414\\\\\n",
       "\t 2 & 2 & 0.3919062 & 0.2389430 & 0.4110859\\\\\n",
       "\t 2 & 3 & 0.9442315 & 0.2323952 & 0.3995785\\\\\n",
       "\t 2 & 4 & 0.9725833 & 0.9837803 & 0.9940136\\\\\n",
       "\t 2 & 5 & 0.9993853 & 0.9999290 & 0.9999987\\\\\n",
       "\t 3 & 1 & 0.9078666 & 0.9929452 & 0.9282773\\\\\n",
       "\t 3 & 2 & 0.8823870 & 0.2341374 & 0.4016880\\\\\n",
       "\t 3 & 3 & 0.3274570 & 0.2459755 & 0.4155652\\\\\n",
       "\t 3 & 4 & 0.9824764 & 0.9994689 & 0.9999870\\\\\n",
       "\t 3 & 5 & 0.9781284 & 0.9992820 & 0.9643761\\\\\n",
       "\t 4 & 1 & 0.9792802 & 0.9996344 & 0.9997688\\\\\n",
       "\t 4 & 2 & 0.9462613 & 0.9943995 & 0.9935796\\\\\n",
       "\t 4 & 3 & 0.8673563 & 0.3880054 & 0.5418012\\\\\n",
       "\t 4 & 4 & 0.4055530 & 0.2972675 & 0.4502401\\\\\n",
       "\t 4 & 5 & 0.9289539 & 0.3776777 & 0.5328577\\\\\n",
       "\t 5 & 1 & 0.9914651 & 0.9998912 & 0.9999532\\\\\n",
       "\t 5 & 2 & 0.9779063 & 0.9975154 & 0.9998340\\\\\n",
       "\t 5 & 3 & 0.9532595 & 0.9947128 & 0.9962253\\\\\n",
       "\t 5 & 4 & 0.9778315 & 0.9993737 & 0.9999575\\\\\n",
       "\t 5 & 5 & 0.9268392 & 0.9925690 & 0.9991808\\\\\n",
       "\\end{tabular}\n"
      ],
      "text/markdown": [
       "\n",
       "A data.frame: 25 × 5\n",
       "\n",
       "| AR order &lt;dbl&gt; | MA order &lt;dbl&gt; | 1 lag &lt;dbl&gt; | 2 lags &lt;dbl&gt; | 3 lags &lt;dbl&gt; |\n",
       "|---|---|---|---|---|\n",
       "| 1 | 1 | 0.7299102 | 0.3309420 | 0.4695971 |\n",
       "| 1 | 2 | 0.9859957 | 0.9894737 | 0.9991655 |\n",
       "| 1 | 3 | 0.9790561 | 0.9912723 | 0.9921942 |\n",
       "| 1 | 4 | 0.9867226 | 0.9997043 | 0.9999856 |\n",
       "| 1 | 5 | 0.9959584 | 0.9999865 | 0.9999996 |\n",
       "| 2 | 1 | 0.9804367 | 0.9750226 | 0.9969414 |\n",
       "| 2 | 2 | 0.3919062 | 0.2389430 | 0.4110859 |\n",
       "| 2 | 3 | 0.9442315 | 0.2323952 | 0.3995785 |\n",
       "| 2 | 4 | 0.9725833 | 0.9837803 | 0.9940136 |\n",
       "| 2 | 5 | 0.9993853 | 0.9999290 | 0.9999987 |\n",
       "| 3 | 1 | 0.9078666 | 0.9929452 | 0.9282773 |\n",
       "| 3 | 2 | 0.8823870 | 0.2341374 | 0.4016880 |\n",
       "| 3 | 3 | 0.3274570 | 0.2459755 | 0.4155652 |\n",
       "| 3 | 4 | 0.9824764 | 0.9994689 | 0.9999870 |\n",
       "| 3 | 5 | 0.9781284 | 0.9992820 | 0.9643761 |\n",
       "| 4 | 1 | 0.9792802 | 0.9996344 | 0.9997688 |\n",
       "| 4 | 2 | 0.9462613 | 0.9943995 | 0.9935796 |\n",
       "| 4 | 3 | 0.8673563 | 0.3880054 | 0.5418012 |\n",
       "| 4 | 4 | 0.4055530 | 0.2972675 | 0.4502401 |\n",
       "| 4 | 5 | 0.9289539 | 0.3776777 | 0.5328577 |\n",
       "| 5 | 1 | 0.9914651 | 0.9998912 | 0.9999532 |\n",
       "| 5 | 2 | 0.9779063 | 0.9975154 | 0.9998340 |\n",
       "| 5 | 3 | 0.9532595 | 0.9947128 | 0.9962253 |\n",
       "| 5 | 4 | 0.9778315 | 0.9993737 | 0.9999575 |\n",
       "| 5 | 5 | 0.9268392 | 0.9925690 | 0.9991808 |\n",
       "\n"
      ],
      "text/plain": [
       "   AR order MA order 1 lag     2 lags    3 lags   \n",
       "1  1        1        0.7299102 0.3309420 0.4695971\n",
       "2  1        2        0.9859957 0.9894737 0.9991655\n",
       "3  1        3        0.9790561 0.9912723 0.9921942\n",
       "4  1        4        0.9867226 0.9997043 0.9999856\n",
       "5  1        5        0.9959584 0.9999865 0.9999996\n",
       "6  2        1        0.9804367 0.9750226 0.9969414\n",
       "7  2        2        0.3919062 0.2389430 0.4110859\n",
       "8  2        3        0.9442315 0.2323952 0.3995785\n",
       "9  2        4        0.9725833 0.9837803 0.9940136\n",
       "10 2        5        0.9993853 0.9999290 0.9999987\n",
       "11 3        1        0.9078666 0.9929452 0.9282773\n",
       "12 3        2        0.8823870 0.2341374 0.4016880\n",
       "13 3        3        0.3274570 0.2459755 0.4155652\n",
       "14 3        4        0.9824764 0.9994689 0.9999870\n",
       "15 3        5        0.9781284 0.9992820 0.9643761\n",
       "16 4        1        0.9792802 0.9996344 0.9997688\n",
       "17 4        2        0.9462613 0.9943995 0.9935796\n",
       "18 4        3        0.8673563 0.3880054 0.5418012\n",
       "19 4        4        0.4055530 0.2972675 0.4502401\n",
       "20 4        5        0.9289539 0.3776777 0.5328577\n",
       "21 5        1        0.9914651 0.9998912 0.9999532\n",
       "22 5        2        0.9779063 0.9975154 0.9998340\n",
       "23 5        3        0.9532595 0.9947128 0.9962253\n",
       "24 5        4        0.9778315 0.9993737 0.9999575\n",
       "25 5        5        0.9268392 0.9925690 0.9991808"
      ]
     },
     "metadata": {},
     "output_type": "display_data"
    },
    {
     "name": "stdout",
     "output_type": "stream",
     "text": [
      "[1] \"Monthly CPI Ljung-Box test p-values for different orders of ARIMA\"\n"
     ]
    },
    {
     "data": {
      "text/html": [
       "<table class=\"dataframe\">\n",
       "<caption>A data.frame: 25 × 5</caption>\n",
       "<thead>\n",
       "\t<tr><th scope=col>AR order</th><th scope=col>MA order</th><th scope=col>1 lag</th><th scope=col>2 lags</th><th scope=col>3 lags</th></tr>\n",
       "\t<tr><th scope=col>&lt;dbl&gt;</th><th scope=col>&lt;dbl&gt;</th><th scope=col>&lt;dbl&gt;</th><th scope=col>&lt;dbl&gt;</th><th scope=col>&lt;dbl&gt;</th></tr>\n",
       "</thead>\n",
       "<tbody>\n",
       "\t<tr><td>1</td><td>1</td><td>0.00155942</td><td>0.00003490583</td><td>0.00002216146</td></tr>\n",
       "\t<tr><td>1</td><td>2</td><td>0.99014064</td><td>0.91128267582</td><td>0.97980483754</td></tr>\n",
       "\t<tr><td>1</td><td>3</td><td>0.96478232</td><td>0.98679614085</td><td>0.99418873018</td></tr>\n",
       "\t<tr><td>1</td><td>4</td><td>0.97410126</td><td>0.97429105386</td><td>0.96922641062</td></tr>\n",
       "\t<tr><td>1</td><td>5</td><td>0.86537074</td><td>0.97289278547</td><td>0.99521541299</td></tr>\n",
       "\t<tr><td>2</td><td>1</td><td>0.73939319</td><td>0.28474698860</td><td>0.45501796626</td></tr>\n",
       "\t<tr><td>2</td><td>2</td><td>0.95529920</td><td>0.99304353280</td><td>0.99049680201</td></tr>\n",
       "\t<tr><td>2</td><td>3</td><td>0.92665758</td><td>0.99498146109</td><td>0.89779920918</td></tr>\n",
       "\t<tr><td>2</td><td>4</td><td>0.96448351</td><td>0.95910403587</td><td>0.93207147777</td></tr>\n",
       "\t<tr><td>2</td><td>5</td><td>0.95546627</td><td>0.97966934169</td><td>0.98616183671</td></tr>\n",
       "\t<tr><td>3</td><td>1</td><td>0.95637773</td><td>0.94402757059</td><td>0.98616722191</td></tr>\n",
       "\t<tr><td>3</td><td>2</td><td>0.89458355</td><td>0.83755667572</td><td>0.85634090475</td></tr>\n",
       "\t<tr><td>3</td><td>3</td><td>0.04201918</td><td>0.06163765980</td><td>0.09448024170</td></tr>\n",
       "\t<tr><td>3</td><td>4</td><td>0.99903462</td><td>0.98498967318</td><td>0.98008345393</td></tr>\n",
       "\t<tr><td>3</td><td>5</td><td>0.96758891</td><td>0.99766836797</td><td>0.99986486354</td></tr>\n",
       "\t<tr><td>4</td><td>1</td><td>0.95980787</td><td>0.94640626988</td><td>0.98861872845</td></tr>\n",
       "\t<tr><td>4</td><td>2</td><td>0.97389001</td><td>0.98932259048</td><td>0.94796877506</td></tr>\n",
       "\t<tr><td>4</td><td>3</td><td>0.95316911</td><td>0.96880342382</td><td>0.99573859445</td></tr>\n",
       "\t<tr><td>4</td><td>4</td><td>0.97481476</td><td>0.99011626958</td><td>0.99913305585</td></tr>\n",
       "\t<tr><td>4</td><td>5</td><td>0.81326835</td><td>0.59871966537</td><td>0.72019875687</td></tr>\n",
       "\t<tr><td>5</td><td>1</td><td>0.99185928</td><td>0.93577155414</td><td>0.97634094154</td></tr>\n",
       "\t<tr><td>5</td><td>2</td><td>0.76171449</td><td>0.58329947815</td><td>0.29872150972</td></tr>\n",
       "\t<tr><td>5</td><td>3</td><td>0.97455095</td><td>0.99509883229</td><td>0.99964690563</td></tr>\n",
       "\t<tr><td>5</td><td>4</td><td>0.81691437</td><td>0.89478321963</td><td>0.64323160041</td></tr>\n",
       "\t<tr><td>5</td><td>5</td><td>0.57421872</td><td>0.66977650489</td><td>0.55751787105</td></tr>\n",
       "</tbody>\n",
       "</table>\n"
      ],
      "text/latex": [
       "A data.frame: 25 × 5\n",
       "\\begin{tabular}{lllll}\n",
       " AR order & MA order & 1 lag & 2 lags & 3 lags\\\\\n",
       " <dbl> & <dbl> & <dbl> & <dbl> & <dbl>\\\\\n",
       "\\hline\n",
       "\t 1 & 1 & 0.00155942 & 0.00003490583 & 0.00002216146\\\\\n",
       "\t 1 & 2 & 0.99014064 & 0.91128267582 & 0.97980483754\\\\\n",
       "\t 1 & 3 & 0.96478232 & 0.98679614085 & 0.99418873018\\\\\n",
       "\t 1 & 4 & 0.97410126 & 0.97429105386 & 0.96922641062\\\\\n",
       "\t 1 & 5 & 0.86537074 & 0.97289278547 & 0.99521541299\\\\\n",
       "\t 2 & 1 & 0.73939319 & 0.28474698860 & 0.45501796626\\\\\n",
       "\t 2 & 2 & 0.95529920 & 0.99304353280 & 0.99049680201\\\\\n",
       "\t 2 & 3 & 0.92665758 & 0.99498146109 & 0.89779920918\\\\\n",
       "\t 2 & 4 & 0.96448351 & 0.95910403587 & 0.93207147777\\\\\n",
       "\t 2 & 5 & 0.95546627 & 0.97966934169 & 0.98616183671\\\\\n",
       "\t 3 & 1 & 0.95637773 & 0.94402757059 & 0.98616722191\\\\\n",
       "\t 3 & 2 & 0.89458355 & 0.83755667572 & 0.85634090475\\\\\n",
       "\t 3 & 3 & 0.04201918 & 0.06163765980 & 0.09448024170\\\\\n",
       "\t 3 & 4 & 0.99903462 & 0.98498967318 & 0.98008345393\\\\\n",
       "\t 3 & 5 & 0.96758891 & 0.99766836797 & 0.99986486354\\\\\n",
       "\t 4 & 1 & 0.95980787 & 0.94640626988 & 0.98861872845\\\\\n",
       "\t 4 & 2 & 0.97389001 & 0.98932259048 & 0.94796877506\\\\\n",
       "\t 4 & 3 & 0.95316911 & 0.96880342382 & 0.99573859445\\\\\n",
       "\t 4 & 4 & 0.97481476 & 0.99011626958 & 0.99913305585\\\\\n",
       "\t 4 & 5 & 0.81326835 & 0.59871966537 & 0.72019875687\\\\\n",
       "\t 5 & 1 & 0.99185928 & 0.93577155414 & 0.97634094154\\\\\n",
       "\t 5 & 2 & 0.76171449 & 0.58329947815 & 0.29872150972\\\\\n",
       "\t 5 & 3 & 0.97455095 & 0.99509883229 & 0.99964690563\\\\\n",
       "\t 5 & 4 & 0.81691437 & 0.89478321963 & 0.64323160041\\\\\n",
       "\t 5 & 5 & 0.57421872 & 0.66977650489 & 0.55751787105\\\\\n",
       "\\end{tabular}\n"
      ],
      "text/markdown": [
       "\n",
       "A data.frame: 25 × 5\n",
       "\n",
       "| AR order &lt;dbl&gt; | MA order &lt;dbl&gt; | 1 lag &lt;dbl&gt; | 2 lags &lt;dbl&gt; | 3 lags &lt;dbl&gt; |\n",
       "|---|---|---|---|---|\n",
       "| 1 | 1 | 0.00155942 | 0.00003490583 | 0.00002216146 |\n",
       "| 1 | 2 | 0.99014064 | 0.91128267582 | 0.97980483754 |\n",
       "| 1 | 3 | 0.96478232 | 0.98679614085 | 0.99418873018 |\n",
       "| 1 | 4 | 0.97410126 | 0.97429105386 | 0.96922641062 |\n",
       "| 1 | 5 | 0.86537074 | 0.97289278547 | 0.99521541299 |\n",
       "| 2 | 1 | 0.73939319 | 0.28474698860 | 0.45501796626 |\n",
       "| 2 | 2 | 0.95529920 | 0.99304353280 | 0.99049680201 |\n",
       "| 2 | 3 | 0.92665758 | 0.99498146109 | 0.89779920918 |\n",
       "| 2 | 4 | 0.96448351 | 0.95910403587 | 0.93207147777 |\n",
       "| 2 | 5 | 0.95546627 | 0.97966934169 | 0.98616183671 |\n",
       "| 3 | 1 | 0.95637773 | 0.94402757059 | 0.98616722191 |\n",
       "| 3 | 2 | 0.89458355 | 0.83755667572 | 0.85634090475 |\n",
       "| 3 | 3 | 0.04201918 | 0.06163765980 | 0.09448024170 |\n",
       "| 3 | 4 | 0.99903462 | 0.98498967318 | 0.98008345393 |\n",
       "| 3 | 5 | 0.96758891 | 0.99766836797 | 0.99986486354 |\n",
       "| 4 | 1 | 0.95980787 | 0.94640626988 | 0.98861872845 |\n",
       "| 4 | 2 | 0.97389001 | 0.98932259048 | 0.94796877506 |\n",
       "| 4 | 3 | 0.95316911 | 0.96880342382 | 0.99573859445 |\n",
       "| 4 | 4 | 0.97481476 | 0.99011626958 | 0.99913305585 |\n",
       "| 4 | 5 | 0.81326835 | 0.59871966537 | 0.72019875687 |\n",
       "| 5 | 1 | 0.99185928 | 0.93577155414 | 0.97634094154 |\n",
       "| 5 | 2 | 0.76171449 | 0.58329947815 | 0.29872150972 |\n",
       "| 5 | 3 | 0.97455095 | 0.99509883229 | 0.99964690563 |\n",
       "| 5 | 4 | 0.81691437 | 0.89478321963 | 0.64323160041 |\n",
       "| 5 | 5 | 0.57421872 | 0.66977650489 | 0.55751787105 |\n",
       "\n"
      ],
      "text/plain": [
       "   AR order MA order 1 lag      2 lags        3 lags       \n",
       "1  1        1        0.00155942 0.00003490583 0.00002216146\n",
       "2  1        2        0.99014064 0.91128267582 0.97980483754\n",
       "3  1        3        0.96478232 0.98679614085 0.99418873018\n",
       "4  1        4        0.97410126 0.97429105386 0.96922641062\n",
       "5  1        5        0.86537074 0.97289278547 0.99521541299\n",
       "6  2        1        0.73939319 0.28474698860 0.45501796626\n",
       "7  2        2        0.95529920 0.99304353280 0.99049680201\n",
       "8  2        3        0.92665758 0.99498146109 0.89779920918\n",
       "9  2        4        0.96448351 0.95910403587 0.93207147777\n",
       "10 2        5        0.95546627 0.97966934169 0.98616183671\n",
       "11 3        1        0.95637773 0.94402757059 0.98616722191\n",
       "12 3        2        0.89458355 0.83755667572 0.85634090475\n",
       "13 3        3        0.04201918 0.06163765980 0.09448024170\n",
       "14 3        4        0.99903462 0.98498967318 0.98008345393\n",
       "15 3        5        0.96758891 0.99766836797 0.99986486354\n",
       "16 4        1        0.95980787 0.94640626988 0.98861872845\n",
       "17 4        2        0.97389001 0.98932259048 0.94796877506\n",
       "18 4        3        0.95316911 0.96880342382 0.99573859445\n",
       "19 4        4        0.97481476 0.99011626958 0.99913305585\n",
       "20 4        5        0.81326835 0.59871966537 0.72019875687\n",
       "21 5        1        0.99185928 0.93577155414 0.97634094154\n",
       "22 5        2        0.76171449 0.58329947815 0.29872150972\n",
       "23 5        3        0.97455095 0.99509883229 0.99964690563\n",
       "24 5        4        0.81691437 0.89478321963 0.64323160041\n",
       "25 5        5        0.57421872 0.66977650489 0.55751787105"
      ]
     },
     "metadata": {},
     "output_type": "display_data"
    }
   ],
   "source": [
    "# Get the data frame of p-values from the B-L test\n",
    "print('Monthly GDP Ljung-Box test p-values for different orders of ARIMA')\n",
    "getBoxLjung(gdp_pop_change)\n",
    "\n",
    "print('Monthly CPI Ljung-Box test p-values for different orders of ARIMA')\n",
    "getBoxLjung(cpi_pop_change)"
   ]
  },
  {
   "attachments": {},
   "cell_type": "markdown",
   "metadata": {},
   "source": [
    "For GDP, the strongest candidate seems to be the *ARIMA(2,2)* model, where the residuals perform the best in the Ljung-Box test among models with low order of integration, the model range in which we would ideally like to search. However, when we ran this model, we found that no coefficients were statistically significant, so maybe autotocorrelation is not the only thing that matters. After a bit of fiddeling around, we decided to opt for the suggested *ARIMA(3,1,2)* model, as it laid on the cross-road of good Ljung-Box test performance, and coefficient significance.\n",
    "\n",
    "When it comes to CPI, there was one big concern. No matter the model, we could not get rid of autocorrelation in higher lags of the series, notably around lag 12, which can be seen in both correlation functions below. This would suggest yearly trends in the data, but when we re-checked the seasonality using our `handleSeasonality` function, we got the same results, which only validated that our function is well written, and that **we indeed have seasonally adjusted data from the source**. We decided to not look too deep into this, and proceeded with the modelling as per usual, which led us to the model *ARIMA(1,0,2)*, the one that showed the best result in the two aforementioned criteria.\n",
    "\n",
    "Results of the modelling can be seen below."
   ]
  },
  {
   "cell_type": "code",
   "execution_count": 157,
   "metadata": {
    "vscode": {
     "languageId": "r"
    }
   },
   "outputs": [
    {
     "data": {
      "text/plain": [
       "\n",
       "Call:\n",
       "arima(x = gdp_pop_change, order = c(3, 1, 2))\n",
       "\n",
       "Coefficients:\n",
       "         ar1     ar2      ar3      ma1     ma2\n",
       "      0.8868  0.0188  -0.1659  -1.7336  0.7394\n",
       "s.e.  0.2232  0.0836   0.0573   0.2224  0.2194\n",
       "\n",
       "sigma^2 estimated as 0.01601:  log likelihood = 194.2,  aic = -378.41"
      ]
     },
     "metadata": {},
     "output_type": "display_data"
    },
    {
     "data": {
      "text/plain": [
       "\n",
       "\tBox-Ljung test\n",
       "\n",
       "data:  GDP_ARMA$residuals\n",
       "X-squared = 0.020928, df = 1, p-value = 0.885\n"
      ]
     },
     "metadata": {},
     "output_type": "display_data"
    },
    {
     "data": {
      "text/plain": [
       "\n",
       "\tBox-Ljung test\n",
       "\n",
       "data:  GDP_ARMA$residuals\n",
       "X-squared = 0.025734, df = 2, p-value = 0.9872\n"
      ]
     },
     "metadata": {},
     "output_type": "display_data"
    },
    {
     "data": {
      "text/plain": [
       "\n",
       "\tBox-Ljung test\n",
       "\n",
       "data:  GDP_ARMA$residuals\n",
       "X-squared = 0.42714, df = 3, p-value = 0.9346\n"
      ]
     },
     "metadata": {},
     "output_type": "display_data"
    },
    {
     "data": {
      "image/png": "[encoded data removed]",
      "text/plain": [
       "Plot with title \"Residuals - PACF\""
      ]
     },
     "metadata": {
      "image/png": {
       "height": 360,
       "width": 720
      }
     },
     "output_type": "display_data"
    }
   ],
   "source": [
    "### 4.\n",
    "\n",
    "## GDP ARMA modelling\n",
    "GDP_ARMA <- arima(gdp_pop_change, order = c(3, 1, 2))\n",
    "GDP_ARMA\n",
    "\n",
    "par(mfrow = c(1, 2))\n",
    "acf(GDP_ARMA$residuals, main = 'Residuals - ACF')\n",
    "pacf(GDP_ARMA$residuals, main = 'Residuals - PACF')\n",
    "\n",
    "Box.test(GDP_ARMA$residuals, type = \"Ljung-Box\", lag = 1)\n",
    "Box.test(GDP_ARMA$residuals, type = \"Ljung-Box\", lag = 2)\n",
    "Box.test(GDP_ARMA$residuals, type = \"Ljung-Box\", lag = 3)"
   ]
  },
  {
   "cell_type": "code",
   "execution_count": 146,
   "metadata": {
    "vscode": {
     "languageId": "r"
    }
   },
   "outputs": [
    {
     "data": {
      "text/plain": [
       "\n",
       "Call:\n",
       "arima(x = cpi_pop_change, order = c(1, 0, 2))\n",
       "\n",
       "Coefficients:\n",
       "         ar1      ma1      ma2  intercept\n",
       "      0.9578  -0.5627  -0.1796     0.0707\n",
       "s.e.  0.0140   0.0364   0.0346     0.0137\n",
       "\n",
       "sigma^2 estimated as 0.004782:  log likelihood = 1141.92,  aic = -2275.83"
      ]
     },
     "metadata": {},
     "output_type": "display_data"
    },
    {
     "data": {
      "text/plain": [
       "\n",
       "\tBox-Ljung test\n",
       "\n",
       "data:  CPI_ARMA$residuals\n",
       "X-squared = 1.6367, df = 4, p-value = 0.8022\n"
      ]
     },
     "metadata": {},
     "output_type": "display_data"
    },
    {
     "data": {
      "text/plain": [
       "\n",
       "\tBox-Ljung test\n",
       "\n",
       "data:  CPI_ARMA$residuals\n",
       "X-squared = 2.5688, df = 8, p-value = 0.9584\n"
      ]
     },
     "metadata": {},
     "output_type": "display_data"
    },
    {
     "data": {
      "text/plain": [
       "\n",
       "\tBox-Ljung test\n",
       "\n",
       "data:  CPI_ARMA$residuals\n",
       "X-squared = 64.031, df = 12, p-value = 0.000000004117\n"
      ]
     },
     "metadata": {},
     "output_type": "display_data"
    },
    {
     "data": {
      "image/png": "[encoded data removed]",
      "text/plain": [
       "Plot with title \"Residuals - PACF\""
      ]
     },
     "metadata": {
      "image/png": {
       "height": 360,
       "width": 720
      }
     },
     "output_type": "display_data"
    }
   ],
   "source": [
    "## CPI ARMA modelling\n",
    "CPI_ARMA <- arima(cpi_pop_change, order = c(1, 0, 2))\n",
    "CPI_ARMA\n",
    "\n",
    "par(mfrow = c(1, 2))\n",
    "acf(CPI_ARMA$residuals, main = 'Residuals - ACF')\n",
    "pacf(CPI_ARMA$residuals, main = 'Residuals - PACF')\n",
    "\n",
    "Box.test(CPI_ARMA$residuals, type = \"Ljung-Box\", lag = 4)\n",
    "Box.test(CPI_ARMA$residuals, type = \"Ljung-Box\", lag = 8)\n",
    "Box.test(CPI_ARMA$residuals, type = \"Ljung-Box\", lag = 12)\n"
   ]
  },
  {
   "attachments": {},
   "cell_type": "markdown",
   "metadata": {},
   "source": [
    "Now let's **run some forecasts**. This can be done using the `forecast` package."
   ]
  },
  {
   "cell_type": "code",
   "execution_count": 158,
   "metadata": {
    "vscode": {
     "languageId": "r"
    }
   },
   "outputs": [],
   "source": [
    "## Forecasting with the two ARMA models\n",
    "# new_ts <- ts(gdp_mom_change, frequency=12)\n",
    "# gdp_window <- window(gdp_mom_change, end = c(2024, 4))\n",
    "# cpi_window <- window(cpi_mom_change, end = c(2024, 4))\n"
   ]
  },
  {
   "attachments": {},
   "cell_type": "markdown",
   "metadata": {},
   "source": [
    "\n",
    "\n",
    "### *Estimating the Output Gap*:\n",
    "\n",
    "Intro here"
   ]
  },
  {
   "cell_type": "code",
   "execution_count": null,
   "metadata": {
    "vscode": {
     "languageId": "r"
    }
   },
   "outputs": [],
   "source": [
    "### 5.\n",
    "\n",
    "#Code here"
   ]
  },
  {
   "cell_type": "markdown",
   "metadata": {},
   "source": [
    "Results of the output gap estimation here"
   ]
  },
  {
   "cell_type": "markdown",
   "metadata": {},
   "source": [
    "##"
   ]
  }
 ],
 "metadata": {
  "kernelspec": {
   "display_name": "R",
   "language": "R",
   "name": "ir"
  },
  "language_info": {
   "codemirror_mode": "r",
   "file_extension": ".r",
   "mimetype": "text/x-r-source",
   "name": "R",
   "pygments_lexer": "r",
   "version": "4.2.2"
  },
  "orig_nbformat": 4,
  "vscode": {
   "interpreter": {
    "hash": "ef302c5ef8ca581e58ca04844524c5fb484f395fd3b9a761dc74c7358f0b452c"
   }
  }
 },
 "nbformat": 4,
 "nbformat_minor": 2
}
